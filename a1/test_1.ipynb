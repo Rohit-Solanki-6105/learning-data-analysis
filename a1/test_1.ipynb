{
 "cells": [
  {
   "cell_type": "markdown",
   "id": "57fdf000-183f-4c3e-b54a-f709d7f18673",
   "metadata": {},
   "source": [
    "# Name = Rohit Solanki\n",
    "# Roll no = 106\n",
    "# Sub = Data Visualization - Assignment 1\n",
    "# Course = Msc CS - sem 7"
   ]
  },
  {
   "cell_type": "markdown",
   "id": "8de757dc-9090-42a1-9808-e0e3e425d119",
   "metadata": {},
   "source": [
    "## Q1 -----------------------"
   ]
  },
  {
   "cell_type": "code",
   "execution_count": 57,
   "id": "5cf0a54c-d2f8-43e7-8d01-60510db9929b",
   "metadata": {},
   "outputs": [],
   "source": [
    "\n",
    "import pandas as pd\n",
    "import numpy as np\n",
    "import matplotlib.pyplot as plt\n",
    "\n",
    "# ------------------------------\n",
    "# Load & Preprocess Dataset\n",
    "# ------------------------------\n",
    "df = pd.read_csv(\"Flipkart-Laptops.csv\")\n",
    "\n",
    "# Clean price columns\n",
    "for col in ['Actual price', 'Discount price']:\n",
    "    df[col] = (\n",
    "        df[col].astype(str)\n",
    "        .str.replace(\"₹\", \"\", regex=False)\n",
    "        .str.replace(\",\", \"\", regex=False)\n",
    "        .str.strip()\n",
    "    )\n",
    "    df[col] = pd.to_numeric(df[col], errors=\"coerce\")\n",
    "\n",
    "# Clean Ratings and Reviews\n",
    "df['Rating'] = df['Rating'].str.replace(\" Ratings\", \"\", regex=False).str.replace(\",\", \"\", regex=False)\n",
    "df['Reviews'] = df['Reviews'].str.replace(\" Reviews\", \"\", regex=False).str.replace(\",\", \"\", regex=False)\n",
    "df['Rating'] = pd.to_numeric(df['Rating'], errors='coerce')\n",
    "df['Reviews'] = pd.to_numeric(df['Reviews'], errors='coerce')\n",
    "\n",
    "# Clean Stars\n",
    "df['Stars'] = df['Stars'].replace(\"NIL\", np.nan)\n",
    "df['Stars'] = pd.to_numeric(df['Stars'], errors='coerce')\n",
    "\n",
    "# Company column\n",
    "df['Company'] = df['Product Name'].str.split().str[0]\n",
    "\n",
    "# Fill missing numeric values with median\n",
    "for col in ['Actual price', 'Discount price', 'Stars', 'Rating', 'Reviews']:\n",
    "    df[col] = df[col].fillna(df[col].median())\n"
   ]
  },
  {
   "cell_type": "code",
   "execution_count": 58,
   "id": "ef2846f8-b07b-4a8e-b195-952d11c2abee",
   "metadata": {},
   "outputs": [
    {
     "name": "stdout",
     "output_type": "stream",
     "text": [
      "FIRST 5 ROWS:\n"
     ]
    },
    {
     "data": {
      "text/html": [
       "<div>\n",
       "<style scoped>\n",
       "    .dataframe tbody tr th:only-of-type {\n",
       "        vertical-align: middle;\n",
       "    }\n",
       "\n",
       "    .dataframe tbody tr th {\n",
       "        vertical-align: top;\n",
       "    }\n",
       "\n",
       "    .dataframe thead th {\n",
       "        text-align: right;\n",
       "    }\n",
       "</style>\n",
       "<table border=\"1\" class=\"dataframe\">\n",
       "  <thead>\n",
       "    <tr style=\"text-align: right;\">\n",
       "      <th></th>\n",
       "      <th>Product Name</th>\n",
       "      <th>ProductID</th>\n",
       "      <th>Product image</th>\n",
       "      <th>Actual price</th>\n",
       "      <th>Discount price</th>\n",
       "      <th>Stars</th>\n",
       "      <th>Rating</th>\n",
       "      <th>Reviews</th>\n",
       "      <th>Description</th>\n",
       "      <th>Link</th>\n",
       "      <th>Company</th>\n",
       "    </tr>\n",
       "  </thead>\n",
       "  <tbody>\n",
       "    <tr>\n",
       "      <th>0</th>\n",
       "      <td>MSI Cyborg 15 Intel Core i5 12th Gen 12450H - ...</td>\n",
       "      <td>COMGZW35W3DSJADN</td>\n",
       "      <td>#UNKNOWN!</td>\n",
       "      <td>89990.0</td>\n",
       "      <td>54990.0</td>\n",
       "      <td>3.9</td>\n",
       "      <td>7.0</td>\n",
       "      <td>1.0</td>\n",
       "      <td>Intel Core i5 Processor (12th Gen)16 GB DDR5 R...</td>\n",
       "      <td>https://www.flipkart.com/msi-cyborg-15-intel-c...</td>\n",
       "      <td>MSI</td>\n",
       "    </tr>\n",
       "    <tr>\n",
       "      <th>1</th>\n",
       "      <td>MSI Thin 15 Intel Core i7 12th Gen 12650H - (8...</td>\n",
       "      <td>COMGZW37ZX66DBHF</td>\n",
       "      <td>#UNKNOWN!</td>\n",
       "      <td>83990.0</td>\n",
       "      <td>67990.0</td>\n",
       "      <td>4.2</td>\n",
       "      <td>125.0</td>\n",
       "      <td>15.0</td>\n",
       "      <td>Intel Core i7 Processor (12th Gen)8 GB DDR4 RA...</td>\n",
       "      <td>https://www.flipkart.com/msi-thin-15-intel-cor...</td>\n",
       "      <td>MSI</td>\n",
       "    </tr>\n",
       "    <tr>\n",
       "      <th>2</th>\n",
       "      <td>DELL Inspiron 3520 Intel Core i3 12th Gen 1215...</td>\n",
       "      <td>COMGJ75HJGFDJ6JN</td>\n",
       "      <td>#UNKNOWN!</td>\n",
       "      <td>49240.0</td>\n",
       "      <td>35660.0</td>\n",
       "      <td>4.2</td>\n",
       "      <td>1805.0</td>\n",
       "      <td>143.0</td>\n",
       "      <td>Intel Core i3 Processor (12th Gen)8 GB DDR4 RA...</td>\n",
       "      <td>https://www.flipkart.com/dell-inspiron-3520-in...</td>\n",
       "      <td>DELL</td>\n",
       "    </tr>\n",
       "    <tr>\n",
       "      <th>3</th>\n",
       "      <td>Acer One (2024) Intel Core i3 11th Gen 1115G4 ...</td>\n",
       "      <td>COMGPF5CQ7VDWDT4</td>\n",
       "      <td>#UNKNOWN!</td>\n",
       "      <td>43999.0</td>\n",
       "      <td>26990.0</td>\n",
       "      <td>4.2</td>\n",
       "      <td>6977.0</td>\n",
       "      <td>596.0</td>\n",
       "      <td>Intel Core i3 Processor (11th Gen)8 GB DDR4 RA...</td>\n",
       "      <td>https://www.flipkart.com/acer-one-2024-intel-c...</td>\n",
       "      <td>Acer</td>\n",
       "    </tr>\n",
       "    <tr>\n",
       "      <th>4</th>\n",
       "      <td>Lenovo V15 AMD Ryzen 3 Quad Core 7320U - (8 GB...</td>\n",
       "      <td>COMGPYKZAWY8UX6C</td>\n",
       "      <td>#UNKNOWN!</td>\n",
       "      <td>59400.0</td>\n",
       "      <td>27989.0</td>\n",
       "      <td>4.2</td>\n",
       "      <td>1263.0</td>\n",
       "      <td>113.0</td>\n",
       "      <td>AMD Ryzen 3 Quad Core Processor8 GB LPDDR5 RAM...</td>\n",
       "      <td>https://www.flipkart.com/lenovo-v15-amd-ryzen-...</td>\n",
       "      <td>Lenovo</td>\n",
       "    </tr>\n",
       "  </tbody>\n",
       "</table>\n",
       "</div>"
      ],
      "text/plain": [
       "                                        Product Name         ProductID  \\\n",
       "0  MSI Cyborg 15 Intel Core i5 12th Gen 12450H - ...  COMGZW35W3DSJADN   \n",
       "1  MSI Thin 15 Intel Core i7 12th Gen 12650H - (8...  COMGZW37ZX66DBHF   \n",
       "2  DELL Inspiron 3520 Intel Core i3 12th Gen 1215...  COMGJ75HJGFDJ6JN   \n",
       "3  Acer One (2024) Intel Core i3 11th Gen 1115G4 ...  COMGPF5CQ7VDWDT4   \n",
       "4  Lenovo V15 AMD Ryzen 3 Quad Core 7320U - (8 GB...  COMGPYKZAWY8UX6C   \n",
       "\n",
       "  Product image  Actual price  Discount price  Stars  Rating  Reviews  \\\n",
       "0     #UNKNOWN!       89990.0         54990.0    3.9     7.0      1.0   \n",
       "1     #UNKNOWN!       83990.0         67990.0    4.2   125.0     15.0   \n",
       "2     #UNKNOWN!       49240.0         35660.0    4.2  1805.0    143.0   \n",
       "3     #UNKNOWN!       43999.0         26990.0    4.2  6977.0    596.0   \n",
       "4     #UNKNOWN!       59400.0         27989.0    4.2  1263.0    113.0   \n",
       "\n",
       "                                         Description  \\\n",
       "0  Intel Core i5 Processor (12th Gen)16 GB DDR5 R...   \n",
       "1  Intel Core i7 Processor (12th Gen)8 GB DDR4 RA...   \n",
       "2  Intel Core i3 Processor (12th Gen)8 GB DDR4 RA...   \n",
       "3  Intel Core i3 Processor (11th Gen)8 GB DDR4 RA...   \n",
       "4  AMD Ryzen 3 Quad Core Processor8 GB LPDDR5 RAM...   \n",
       "\n",
       "                                                Link Company  \n",
       "0  https://www.flipkart.com/msi-cyborg-15-intel-c...     MSI  \n",
       "1  https://www.flipkart.com/msi-thin-15-intel-cor...     MSI  \n",
       "2  https://www.flipkart.com/dell-inspiron-3520-in...    DELL  \n",
       "3  https://www.flipkart.com/acer-one-2024-intel-c...    Acer  \n",
       "4  https://www.flipkart.com/lenovo-v15-amd-ryzen-...  Lenovo  "
      ]
     },
     "execution_count": 58,
     "metadata": {},
     "output_type": "execute_result"
    }
   ],
   "source": [
    "\n",
    "# ------------------------------\n",
    "# Task 1: First & Last 5 rows\n",
    "# ------------------------------\n",
    "print(\"FIRST 5 ROWS:\") \n",
    "df.head()"
   ]
  },
  {
   "cell_type": "code",
   "execution_count": 59,
   "id": "bf306aab-8197-43f9-b055-0fab1155e019",
   "metadata": {},
   "outputs": [
    {
     "name": "stdout",
     "output_type": "stream",
     "text": [
      "LAST 5 ROWS:\n"
     ]
    },
    {
     "data": {
      "text/html": [
       "<div>\n",
       "<style scoped>\n",
       "    .dataframe tbody tr th:only-of-type {\n",
       "        vertical-align: middle;\n",
       "    }\n",
       "\n",
       "    .dataframe tbody tr th {\n",
       "        vertical-align: top;\n",
       "    }\n",
       "\n",
       "    .dataframe thead th {\n",
       "        text-align: right;\n",
       "    }\n",
       "</style>\n",
       "<table border=\"1\" class=\"dataframe\">\n",
       "  <thead>\n",
       "    <tr style=\"text-align: right;\">\n",
       "      <th></th>\n",
       "      <th>Product Name</th>\n",
       "      <th>ProductID</th>\n",
       "      <th>Product image</th>\n",
       "      <th>Actual price</th>\n",
       "      <th>Discount price</th>\n",
       "      <th>Stars</th>\n",
       "      <th>Rating</th>\n",
       "      <th>Reviews</th>\n",
       "      <th>Description</th>\n",
       "      <th>Link</th>\n",
       "      <th>Company</th>\n",
       "    </tr>\n",
       "  </thead>\n",
       "  <tbody>\n",
       "    <tr>\n",
       "      <th>955</th>\n",
       "      <td>Acer Swift Go 14 (2024) AI Powered EVO Intel C...</td>\n",
       "      <td>COMGWKF2VKGAVHDU</td>\n",
       "      <td>#UNKNOWN!</td>\n",
       "      <td>129999.0</td>\n",
       "      <td>79990.0</td>\n",
       "      <td>4.1</td>\n",
       "      <td>108.0</td>\n",
       "      <td>16.0</td>\n",
       "      <td>Intel Core Ultra 5 Processor16 GB LPDDR5X RAMW...</td>\n",
       "      <td>https://www.flipkart.com/acer-swift-go-14-2024...</td>\n",
       "      <td>Acer</td>\n",
       "    </tr>\n",
       "    <tr>\n",
       "      <th>956</th>\n",
       "      <td>HP Victus Intel Core i5 12th Gen 12450H - (16 ...</td>\n",
       "      <td>COMH2DYZHMHZ5UPG</td>\n",
       "      <td>#UNKNOWN!</td>\n",
       "      <td>69890.0</td>\n",
       "      <td>82414.0</td>\n",
       "      <td>4.2</td>\n",
       "      <td>125.0</td>\n",
       "      <td>15.0</td>\n",
       "      <td>Intel Core i5 Processor (12th Gen)16 GB DDR4 R...</td>\n",
       "      <td>https://www.flipkart.com/hp-victus-intel-core-...</td>\n",
       "      <td>HP</td>\n",
       "    </tr>\n",
       "    <tr>\n",
       "      <th>957</th>\n",
       "      <td>Infinix X1 Slim Series (2024) Intel Core i3 10...</td>\n",
       "      <td>COMGEHP5EFEGWZW5</td>\n",
       "      <td>#UNKNOWN!</td>\n",
       "      <td>49999.0</td>\n",
       "      <td>32990.0</td>\n",
       "      <td>4.3</td>\n",
       "      <td>3897.0</td>\n",
       "      <td>457.0</td>\n",
       "      <td>Intel Core i3 Processor (10th Gen)8 GB LPDDR4X...</td>\n",
       "      <td>https://www.flipkart.com/infinix-x1-slim-serie...</td>\n",
       "      <td>Infinix</td>\n",
       "    </tr>\n",
       "    <tr>\n",
       "      <th>958</th>\n",
       "      <td>Lenovo IdeaPad Slim 3 Intel Core i5 12th Gen 1...</td>\n",
       "      <td>COMGYHP5ZB4AGZH6</td>\n",
       "      <td>#UNKNOWN!</td>\n",
       "      <td>69890.0</td>\n",
       "      <td>53390.0</td>\n",
       "      <td>3.8</td>\n",
       "      <td>53.0</td>\n",
       "      <td>5.0</td>\n",
       "      <td>Intel Core i5 Processor (12th Gen)16 GB LPDDR5...</td>\n",
       "      <td>https://www.flipkart.com/lenovo-ideapad-slim-3...</td>\n",
       "      <td>Lenovo</td>\n",
       "    </tr>\n",
       "    <tr>\n",
       "      <th>959</th>\n",
       "      <td>HP (15s-fq5007TU) Intel Core i3 12th Gen 1215U...</td>\n",
       "      <td>COMGYHP5MCEYZHSV</td>\n",
       "      <td>#UNKNOWN!</td>\n",
       "      <td>51134.0</td>\n",
       "      <td>38990.0</td>\n",
       "      <td>4.2</td>\n",
       "      <td>5540.0</td>\n",
       "      <td>485.0</td>\n",
       "      <td>Intel Core i3 Processor (12th Gen)8 GB DDR4 RA...</td>\n",
       "      <td>https://www.flipkart.com/hp-15s-fq5007tu-intel...</td>\n",
       "      <td>HP</td>\n",
       "    </tr>\n",
       "  </tbody>\n",
       "</table>\n",
       "</div>"
      ],
      "text/plain": [
       "                                          Product Name         ProductID  \\\n",
       "955  Acer Swift Go 14 (2024) AI Powered EVO Intel C...  COMGWKF2VKGAVHDU   \n",
       "956  HP Victus Intel Core i5 12th Gen 12450H - (16 ...  COMH2DYZHMHZ5UPG   \n",
       "957  Infinix X1 Slim Series (2024) Intel Core i3 10...  COMGEHP5EFEGWZW5   \n",
       "958  Lenovo IdeaPad Slim 3 Intel Core i5 12th Gen 1...  COMGYHP5ZB4AGZH6   \n",
       "959  HP (15s-fq5007TU) Intel Core i3 12th Gen 1215U...  COMGYHP5MCEYZHSV   \n",
       "\n",
       "    Product image  Actual price  Discount price  Stars  Rating  Reviews  \\\n",
       "955     #UNKNOWN!      129999.0         79990.0    4.1   108.0     16.0   \n",
       "956     #UNKNOWN!       69890.0         82414.0    4.2   125.0     15.0   \n",
       "957     #UNKNOWN!       49999.0         32990.0    4.3  3897.0    457.0   \n",
       "958     #UNKNOWN!       69890.0         53390.0    3.8    53.0      5.0   \n",
       "959     #UNKNOWN!       51134.0         38990.0    4.2  5540.0    485.0   \n",
       "\n",
       "                                           Description  \\\n",
       "955  Intel Core Ultra 5 Processor16 GB LPDDR5X RAMW...   \n",
       "956  Intel Core i5 Processor (12th Gen)16 GB DDR4 R...   \n",
       "957  Intel Core i3 Processor (10th Gen)8 GB LPDDR4X...   \n",
       "958  Intel Core i5 Processor (12th Gen)16 GB LPDDR5...   \n",
       "959  Intel Core i3 Processor (12th Gen)8 GB DDR4 RA...   \n",
       "\n",
       "                                                  Link  Company  \n",
       "955  https://www.flipkart.com/acer-swift-go-14-2024...     Acer  \n",
       "956  https://www.flipkart.com/hp-victus-intel-core-...       HP  \n",
       "957  https://www.flipkart.com/infinix-x1-slim-serie...  Infinix  \n",
       "958  https://www.flipkart.com/lenovo-ideapad-slim-3...   Lenovo  \n",
       "959  https://www.flipkart.com/hp-15s-fq5007tu-intel...       HP  "
      ]
     },
     "execution_count": 59,
     "metadata": {},
     "output_type": "execute_result"
    }
   ],
   "source": [
    "print(\"LAST 5 ROWS:\")\n",
    "df.tail()"
   ]
  },
  {
   "cell_type": "code",
   "execution_count": 60,
   "id": "1d14bb4d-6d59-477b-ade1-c52ce234c0ae",
   "metadata": {},
   "outputs": [
    {
     "name": "stdout",
     "output_type": "stream",
     "text": [
      "TOTAL SALES BY COMPANY:\n"
     ]
    },
    {
     "data": {
      "text/plain": [
       "Company\n",
       "MSI          12109351.0\n",
       "HP           11593867.0\n",
       "Lenovo        8872180.0\n",
       "ASUS          7938124.0\n",
       "Acer          3210626.0\n",
       "Thomson       2833636.0\n",
       "DELL          1969053.0\n",
       "Apple         1182600.0\n",
       "SAMSUNG       1051880.0\n",
       "MICROSOFT      968940.0\n",
       "Infinix        863511.0\n",
       "Colorful       509940.0\n",
       "ZEBRONICS      259930.0\n",
       "Avita          108462.0\n",
       "realme          99989.0\n",
       "CHUWI           96950.0\n",
       "GIGABYTE        63990.0\n",
       "Vaio            45042.0\n",
       "Ultimus         37989.0\n",
       "Mi              37052.0\n",
       "AXL             17990.0\n",
       "Primebook       15990.0\n",
       "Name: Discount price, dtype: float64"
      ]
     },
     "execution_count": 60,
     "metadata": {},
     "output_type": "execute_result"
    }
   ],
   "source": [
    "\n",
    "# ------------------------------\n",
    "# Task 2: Total sales by Company\n",
    "# ------------------------------\n",
    "total_sales = df.groupby(\"Company\")[\"Discount price\"].sum().sort_values(ascending=False)\n",
    "print(\"TOTAL SALES BY COMPANY:\")\n",
    "total_sales"
   ]
  },
  {
   "cell_type": "code",
   "execution_count": 61,
   "id": "4fca7d08-b1cc-41a6-a4b0-2cfaab6b859c",
   "metadata": {},
   "outputs": [
    {
     "name": "stdout",
     "output_type": "stream",
     "text": [
      "PRODUCTS BETWEEN 50k-80k:\n"
     ]
    },
    {
     "data": {
      "text/plain": [
       "0      MSI Cyborg 15 Intel Core i5 12th Gen 12450H - ...\n",
       "1      MSI Thin 15 Intel Core i7 12th Gen 12650H - (8...\n",
       "8      Acer Swift Go 14 EVO OLED Intel Core i5 13th G...\n",
       "21     MSI Claw Intel Core Ultra 5 135H - (16 GB/512 ...\n",
       "28     ASUS TUF Gaming F15 - AI Powered Gaming Intel ...\n",
       "                             ...                        \n",
       "951    HP Pavilion AMD Ryzen 5 Hexa Core AMD R5-5600H...\n",
       "953    MSI Thin 15 Intel Core i7 12th Gen 12650H - (8...\n",
       "954    Acer Predator Helios 300 (2024) Intel Core i7 ...\n",
       "955    Acer Swift Go 14 (2024) AI Powered EVO Intel C...\n",
       "958    Lenovo IdeaPad Slim 3 Intel Core i5 12th Gen 1...\n",
       "Name: Product Name, Length: 333, dtype: object"
      ]
     },
     "execution_count": 61,
     "metadata": {},
     "output_type": "execute_result"
    }
   ],
   "source": [
    "\n",
    "# ------------------------------\n",
    "# Task 3: Products between 50k & 80k\n",
    "# ------------------------------\n",
    "products_50k_80k = df.loc[(df[\"Discount price\"] > 50000) & (df[\"Discount price\"] < 80000), \"Product Name\"]\n",
    "print(\"PRODUCTS BETWEEN 50k-80k:\")\n",
    "products_50k_80k"
   ]
  },
  {
   "cell_type": "code",
   "execution_count": 62,
   "id": "30098ecd-e0c4-4b6a-ae3b-3eeeb235de35",
   "metadata": {},
   "outputs": [
    {
     "name": "stdout",
     "output_type": "stream",
     "text": [
      "PRODUCTS WITH >3000 RATINGS:\n"
     ]
    },
    {
     "data": {
      "text/plain": [
       "159"
      ]
     },
     "execution_count": 62,
     "metadata": {},
     "output_type": "execute_result"
    }
   ],
   "source": [
    "\n",
    "# ------------------------------\n",
    "# Task 4: Count products with >3000 ratings\n",
    "# ------------------------------\n",
    "count_3000_ratings = (df[\"Rating\"] > 3000).sum()\n",
    "print(\"PRODUCTS WITH >3000 RATINGS:\")\n",
    "count_3000_ratings"
   ]
  },
  {
   "cell_type": "code",
   "execution_count": 63,
   "id": "1823446a-8f50-4024-aab6-0d4f1ed2aa5d",
   "metadata": {},
   "outputs": [
    {
     "name": "stdout",
     "output_type": "stream",
     "text": [
      "MAX REVIEWS PRODUCT:\n",
      " Product Name    realme Book(Slim) Intel Evo Intel Core i5 11th...\n",
      "Reviews                                                    1042.0\n",
      "Name: 419, dtype: object\n",
      "MIN REVIEWS PRODUCT:\n",
      " Product Name    Lenovo AMD Ryzen 3 Quad Core 7330U - (8 GB/512...\n",
      "Reviews                                                       0.0\n",
      "Name: 5, dtype: object\n"
     ]
    }
   ],
   "source": [
    "\n",
    "# ------------------------------\n",
    "# Task 5: Product with Max & Min reviews\n",
    "# ------------------------------\n",
    "max_reviews_product = df.loc[df[\"Reviews\"].idxmax(), [\"Product Name\", \"Reviews\"]]\n",
    "min_reviews_product = df.loc[df[\"Reviews\"].idxmin(), [\"Product Name\", \"Reviews\"]]\n",
    "print(\"MAX REVIEWS PRODUCT:\\n\", max_reviews_product)\n",
    "print(\"MIN REVIEWS PRODUCT:\\n\", min_reviews_product)\n"
   ]
  },
  {
   "cell_type": "code",
   "execution_count": 64,
   "id": "8beea712-b8df-4c05-a2eb-50b36ed78a86",
   "metadata": {},
   "outputs": [
    {
     "name": "stdout",
     "output_type": "stream",
     "text": [
      "DISCOUNT PRICE STATISTICS:\n"
     ]
    },
    {
     "data": {
      "text/plain": [
       "count       960.000000\n",
       "mean      56132.387500\n",
       "std       33430.684551\n",
       "min       10990.000000\n",
       "25%       35990.000000\n",
       "50%       48990.000000\n",
       "75%       67115.000000\n",
       "max      439990.000000\n",
       "Name: Discount price, dtype: float64"
      ]
     },
     "execution_count": 64,
     "metadata": {},
     "output_type": "execute_result"
    }
   ],
   "source": [
    "\n",
    "# ------------------------------\n",
    "# Task 6: Statistical analysis of discount prices\n",
    "# ------------------------------\n",
    "print(\"DISCOUNT PRICE STATISTICS:\")\n",
    "df[\"Discount price\"].describe()\n"
   ]
  },
  {
   "cell_type": "code",
   "execution_count": 65,
   "id": "55e2f597-dc02-4fd8-b0ed-490195a85587",
   "metadata": {},
   "outputs": [
    {
     "name": "stdout",
     "output_type": "stream",
     "text": [
      "RATING CATEGORIES:\n",
      "\n"
     ]
    },
    {
     "data": {
      "text/plain": [
       "{'Poor (1-2)': 0,\n",
       " 'Average (2-3)': 9,\n",
       " 'Good (3-4)': 161,\n",
       " 'Excellent (4-5)': 790}"
      ]
     },
     "execution_count": 65,
     "metadata": {},
     "output_type": "execute_result"
    }
   ],
   "source": [
    "\n",
    "# ------------------------------\n",
    "# Task 7: Rating Categorization\n",
    "# ------------------------------\n",
    "rating_categories = {\n",
    "    \"Poor (1-2)\": ((df[\"Stars\"] >= 1) & (df[\"Stars\"] < 2)).sum(),\n",
    "    \"Average (2-3)\": ((df[\"Stars\"] >= 2) & (df[\"Stars\"] < 3)).sum(),\n",
    "    \"Good (3-4)\": ((df[\"Stars\"] >= 3) & (df[\"Stars\"] < 4)).sum(),\n",
    "    \"Excellent (4-5)\": ((df[\"Stars\"] >= 4) & (df[\"Stars\"] <= 5)).sum(),\n",
    "}\n",
    "print(\"RATING CATEGORIES:\\n\")\n",
    "rating_categories\n"
   ]
  },
  {
   "cell_type": "code",
   "execution_count": 66,
   "id": "69604c89-40f6-40ed-a6ec-cc1f11f3c9c2",
   "metadata": {},
   "outputs": [
    {
     "data": {
      "image/png": "[encoded data removed]",
      "text/plain": [
       "<Figure size 600x400 with 1 Axes>"
      ]
     },
     "metadata": {},
     "output_type": "display_data"
    }
   ],
   "source": [
    "\n",
    "# ------------------------------\n",
    "# Visualization\n",
    "# ------------------------------\n",
    "plt.figure(figsize=(6,4))\n",
    "plt.bar(rating_categories.keys(), rating_categories.values(), color=\"skyblue\")\n",
    "plt.title(\"Product Rating Distribution\")\n",
    "plt.xlabel(\"Rating Category\")\n",
    "plt.ylabel(\"Number of Products\")\n",
    "plt.xticks(rotation=30)\n",
    "plt.show()"
   ]
  },
  {
   "cell_type": "markdown",
   "id": "9c6e1a79-e807-4fd1-a368-8948393a52e5",
   "metadata": {},
   "source": [
    "## q 2---------------"
   ]
  },
  {
   "cell_type": "code",
   "execution_count": 68,
   "id": "1d59089c-45e4-45b4-a4b8-40ec710e825b",
   "metadata": {},
   "outputs": [
    {
     "name": "stdout",
     "output_type": "stream",
     "text": [
      "Shape: (300153, 12)\n"
     ]
    }
   ],
   "source": [
    "\n",
    "# ------------------------------\n",
    "# Question 2 : Airlines Flights Data\n",
    "# ------------------------------\n",
    "\n",
    "airlines = pd.read_csv(\"airlines_flights_data.csv\")\n",
    "\n",
    "# 1. Shape\n",
    "print(\"Shape:\", airlines.shape)"
   ]
  },
  {
   "cell_type": "code",
   "execution_count": 69,
   "id": "e6ab967d-e0df-4cd9-898d-7d3c8074c052",
   "metadata": {},
   "outputs": [
    {
     "name": "stdout",
     "output_type": "stream",
     "text": [
      "Nulls:\n"
     ]
    },
    {
     "data": {
      "text/plain": [
       "index               0\n",
       "airline             0\n",
       "flight              0\n",
       "source_city         0\n",
       "departure_time      0\n",
       "stops               0\n",
       "arrival_time        0\n",
       "destination_city    0\n",
       "class               0\n",
       "duration            0\n",
       "days_left           0\n",
       "price               0\n",
       "dtype: int64"
      ]
     },
     "execution_count": 69,
     "metadata": {},
     "output_type": "execute_result"
    }
   ],
   "source": [
    "# 2. Null values\n",
    "print(\"Nulls:\")\n",
    "airlines.isnull().sum()"
   ]
  },
  {
   "cell_type": "code",
   "execution_count": 70,
   "id": "dc98b73b-84ec-48a2-afb0-61f1ce3a9e83",
   "metadata": {},
   "outputs": [
    {
     "name": "stdout",
     "output_type": "stream",
     "text": [
      "Statistics:\n"
     ]
    },
    {
     "data": {
      "text/html": [
       "<div>\n",
       "<style scoped>\n",
       "    .dataframe tbody tr th:only-of-type {\n",
       "        vertical-align: middle;\n",
       "    }\n",
       "\n",
       "    .dataframe tbody tr th {\n",
       "        vertical-align: top;\n",
       "    }\n",
       "\n",
       "    .dataframe thead th {\n",
       "        text-align: right;\n",
       "    }\n",
       "</style>\n",
       "<table border=\"1\" class=\"dataframe\">\n",
       "  <thead>\n",
       "    <tr style=\"text-align: right;\">\n",
       "      <th></th>\n",
       "      <th>index</th>\n",
       "      <th>duration</th>\n",
       "      <th>days_left</th>\n",
       "      <th>price</th>\n",
       "    </tr>\n",
       "  </thead>\n",
       "  <tbody>\n",
       "    <tr>\n",
       "      <th>count</th>\n",
       "      <td>300153.000000</td>\n",
       "      <td>300153.000000</td>\n",
       "      <td>300153.000000</td>\n",
       "      <td>300153.000000</td>\n",
       "    </tr>\n",
       "    <tr>\n",
       "      <th>mean</th>\n",
       "      <td>150076.000000</td>\n",
       "      <td>12.221021</td>\n",
       "      <td>26.004751</td>\n",
       "      <td>20889.660523</td>\n",
       "    </tr>\n",
       "    <tr>\n",
       "      <th>std</th>\n",
       "      <td>86646.852011</td>\n",
       "      <td>7.191997</td>\n",
       "      <td>13.561004</td>\n",
       "      <td>22697.767366</td>\n",
       "    </tr>\n",
       "    <tr>\n",
       "      <th>min</th>\n",
       "      <td>0.000000</td>\n",
       "      <td>0.830000</td>\n",
       "      <td>1.000000</td>\n",
       "      <td>1105.000000</td>\n",
       "    </tr>\n",
       "    <tr>\n",
       "      <th>25%</th>\n",
       "      <td>75038.000000</td>\n",
       "      <td>6.830000</td>\n",
       "      <td>15.000000</td>\n",
       "      <td>4783.000000</td>\n",
       "    </tr>\n",
       "    <tr>\n",
       "      <th>50%</th>\n",
       "      <td>150076.000000</td>\n",
       "      <td>11.250000</td>\n",
       "      <td>26.000000</td>\n",
       "      <td>7425.000000</td>\n",
       "    </tr>\n",
       "    <tr>\n",
       "      <th>75%</th>\n",
       "      <td>225114.000000</td>\n",
       "      <td>16.170000</td>\n",
       "      <td>38.000000</td>\n",
       "      <td>42521.000000</td>\n",
       "    </tr>\n",
       "    <tr>\n",
       "      <th>max</th>\n",
       "      <td>300152.000000</td>\n",
       "      <td>49.830000</td>\n",
       "      <td>49.000000</td>\n",
       "      <td>123071.000000</td>\n",
       "    </tr>\n",
       "  </tbody>\n",
       "</table>\n",
       "</div>"
      ],
      "text/plain": [
       "               index       duration      days_left          price\n",
       "count  300153.000000  300153.000000  300153.000000  300153.000000\n",
       "mean   150076.000000      12.221021      26.004751   20889.660523\n",
       "std     86646.852011       7.191997      13.561004   22697.767366\n",
       "min         0.000000       0.830000       1.000000    1105.000000\n",
       "25%     75038.000000       6.830000      15.000000    4783.000000\n",
       "50%    150076.000000      11.250000      26.000000    7425.000000\n",
       "75%    225114.000000      16.170000      38.000000   42521.000000\n",
       "max    300152.000000      49.830000      49.000000  123071.000000"
      ]
     },
     "execution_count": 70,
     "metadata": {},
     "output_type": "execute_result"
    }
   ],
   "source": [
    "# 3. Basic statistics\n",
    "print(\"Statistics:\")\n",
    "airlines.describe()"
   ]
  },
  {
   "cell_type": "code",
   "execution_count": 71,
   "id": "cbbd419d-8c71-4506-b934-e344c73eb449",
   "metadata": {},
   "outputs": [
    {
     "name": "stdout",
     "output_type": "stream",
     "text": [
      "Top Airlines:\n"
     ]
    },
    {
     "data": {
      "text/plain": [
       "Vistara      127859\n",
       "Air_India     80892\n",
       "Indigo        43120\n",
       "GO_FIRST      23173\n",
       "AirAsia       16098\n",
       "Name: airline, dtype: int64"
      ]
     },
     "execution_count": 71,
     "metadata": {},
     "output_type": "execute_result"
    }
   ],
   "source": [
    "# 4. Top 5 airlines\n",
    "print(\"Top Airlines:\")\n",
    "airlines[\"airline\"].value_counts().head()"
   ]
  },
  {
   "cell_type": "code",
   "execution_count": 72,
   "id": "a8f7f187-5a49-4084-a47e-b92be93679c9",
   "metadata": {},
   "outputs": [
    {
     "name": "stdout",
     "output_type": "stream",
     "text": [
      "Average Price per Airline:\n"
     ]
    },
    {
     "data": {
      "text/plain": [
       "airline\n",
       "AirAsia       4091.072742\n",
       "Air_India    23507.019112\n",
       "GO_FIRST      5652.007595\n",
       "Indigo        5324.216303\n",
       "SpiceJet      6179.278881\n",
       "Vistara      30396.536302\n",
       "Name: price, dtype: float64"
      ]
     },
     "execution_count": 72,
     "metadata": {},
     "output_type": "execute_result"
    }
   ],
   "source": [
    "\n",
    "# 5. Average price per airline\n",
    "print(\"Average Price per Airline:\") \n",
    "airlines.groupby(\"airline\")[\"price\"].mean()\n"
   ]
  },
  {
   "cell_type": "code",
   "execution_count": 73,
   "id": "7e98da58-614d-4c52-b4ff-70cb7bdd7c56",
   "metadata": {},
   "outputs": [
    {
     "name": "stdout",
     "output_type": "stream",
     "text": [
      "Cheapest Flight: AirAsia 1105\n",
      "Costliest Flight: Vistara 123071\n"
     ]
    }
   ],
   "source": [
    "\n",
    "# 6. Cheapest and costliest flight\n",
    "min_f = airlines.loc[airlines[\"price\"].idxmin()]\n",
    "max_f = airlines.loc[airlines[\"price\"].idxmax()]\n",
    "print(\"Cheapest Flight:\", min_f[\"airline\"], min_f[\"price\"])\n",
    "print(\"Costliest Flight:\", max_f[\"airline\"], max_f[\"price\"])\n"
   ]
  },
  {
   "cell_type": "code",
   "execution_count": 74,
   "id": "3891ba16-35bc-4a77-81b0-e5aab23c65f8",
   "metadata": {},
   "outputs": [
    {
     "name": "stdout",
     "output_type": "stream",
     "text": [
      "Flights per Source City:\n"
     ]
    },
    {
     "data": {
      "text/plain": [
       "Delhi        61343\n",
       "Mumbai       60896\n",
       "Bangalore    52061\n",
       "Kolkata      46347\n",
       "Hyderabad    40806\n",
       "Chennai      38700\n",
       "Name: source_city, dtype: int64"
      ]
     },
     "execution_count": 74,
     "metadata": {},
     "output_type": "execute_result"
    }
   ],
   "source": [
    "# 7. Flights per source city\n",
    "print(\"Flights per Source City:\")\n",
    "airlines[\"source_city\"].value_counts()"
   ]
  },
  {
   "cell_type": "code",
   "execution_count": 75,
   "id": "71263ac5-1ab0-40a6-baa6-fb93b0cc0737",
   "metadata": {},
   "outputs": [
    {
     "name": "stdout",
     "output_type": "stream",
     "text": [
      "Flights per Destination City:\n"
     ]
    },
    {
     "data": {
      "text/plain": [
       "Mumbai       59097\n",
       "Delhi        57360\n",
       "Bangalore    51068\n",
       "Kolkata      49534\n",
       "Hyderabad    42726\n",
       "Chennai      40368\n",
       "Name: destination_city, dtype: int64"
      ]
     },
     "execution_count": 75,
     "metadata": {},
     "output_type": "execute_result"
    }
   ],
   "source": [
    "\n",
    "# 8. Flights per destination city\n",
    "print(\"Flights per Destination City:\")\n",
    "airlines[\"destination_city\"].value_counts()\n"
   ]
  },
  {
   "cell_type": "code",
   "execution_count": 76,
   "id": "574c8836-3bc2-4cf7-b619-3c8421990e0a",
   "metadata": {},
   "outputs": [
    {
     "name": "stdout",
     "output_type": "stream",
     "text": [
      "Flights per Class:\n"
     ]
    },
    {
     "data": {
      "text/plain": [
       "Economy     206666\n",
       "Business     93487\n",
       "Name: class, dtype: int64"
      ]
     },
     "execution_count": 76,
     "metadata": {},
     "output_type": "execute_result"
    }
   ],
   "source": [
    "\n",
    "# 9. Flights per class\n",
    "print(\"Flights per Class:\")\n",
    "airlines[\"class\"].value_counts()\n"
   ]
  },
  {
   "cell_type": "code",
   "execution_count": 77,
   "id": "e25f5759-0a49-4a06-b9f3-97e5c812b57c",
   "metadata": {},
   "outputs": [
    {
     "name": "stdout",
     "output_type": "stream",
     "text": [
      "Average Price by Class:\n"
     ]
    },
    {
     "data": {
      "text/plain": [
       "class\n",
       "Business    52540.081124\n",
       "Economy      6572.342383\n",
       "Name: price, dtype: float64"
      ]
     },
     "execution_count": 77,
     "metadata": {},
     "output_type": "execute_result"
    }
   ],
   "source": [
    "\n",
    "# 10. Average price by class\n",
    "print(\"Average Price by Class:\")\n",
    "airlines.groupby(\"class\")[\"price\"].mean()\n"
   ]
  },
  {
   "cell_type": "code",
   "execution_count": 78,
   "id": "c673c51b-6f13-4042-9589-26f426ee4c61",
   "metadata": {},
   "outputs": [
    {
     "name": "stdout",
     "output_type": "stream",
     "text": [
      "Average Price by Stops:\n"
     ]
    },
    {
     "data": {
      "text/plain": [
       "stops\n",
       "one            22900.992482\n",
       "two_or_more    14113.450775\n",
       "zero            9375.938535\n",
       "Name: price, dtype: float64"
      ]
     },
     "execution_count": 78,
     "metadata": {},
     "output_type": "execute_result"
    }
   ],
   "source": [
    "\n",
    "# 11. Average price by number of stops\n",
    "print(\"Average Price by Stops:\")\n",
    "airlines.groupby(\"stops\")[\"price\"].mean()\n"
   ]
  },
  {
   "cell_type": "code",
   "execution_count": 79,
   "id": "6f0f9330-6fd2-47ba-89ac-fbb68eb16012",
   "metadata": {},
   "outputs": [
    {
     "data": {
      "image/png": "[encoded data removed]",
      "text/plain": [
       "<Figure size 800x500 with 1 Axes>"
      ]
     },
     "metadata": {},
     "output_type": "display_data"
    }
   ],
   "source": [
    "\n",
    "plt.figure(figsize=(8,5))\n",
    "plt.hist(airlines[\"price\"], bins=50, color=\"skyblue\", edgecolor=\"black\", alpha=0.7)\n",
    "plt.title(\"Price Distribution of Flights\")\n",
    "plt.xlabel(\"Price\")\n",
    "plt.ylabel(\"Frequency\")\n",
    "plt.grid(True, linestyle=\"--\", alpha=0.6)\n",
    "plt.show()"
   ]
  },
  {
   "cell_type": "code",
   "execution_count": null,
   "id": "6337c0ed-7e11-4b89-b890-2cc7eb191f5e",
   "metadata": {},
   "outputs": [],
   "source": []
  }
 ],
 "metadata": {
  "kernelspec": {
   "display_name": "Python 3 (ipykernel)",
   "language": "python",
   "name": "python3"
  },
  "language_info": {
   "codemirror_mode": {
    "name": "ipython",
    "version": 3
   },
   "file_extension": ".py",
   "mimetype": "text/x-python",
   "name": "python",
   "nbconvert_exporter": "python",
   "pygments_lexer": "ipython3",
   "version": "3.11.1"
  }
 },
 "nbformat": 4,
 "nbformat_minor": 5
}
