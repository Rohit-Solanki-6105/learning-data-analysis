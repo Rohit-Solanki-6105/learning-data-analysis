{
 "cells": [
  {
   "cell_type": "code",
   "execution_count": 1,
   "id": "882b0a38-f3a4-47b2-b0f8-b03e7d12ed18",
   "metadata": {},
   "outputs": [],
   "source": [
    "import pandas as pd\n",
    "import numpy as np\n",
    "import matplotlib.pyplot as plt\n"
   ]
  },
  {
   "cell_type": "code",
   "execution_count": 2,
   "id": "6be2c125-0541-4b42-a1d2-630d45aab898",
   "metadata": {},
   "outputs": [
    {
     "data": {
      "text/html": [
       "<div>\n",
       "<style scoped>\n",
       "    .dataframe tbody tr th:only-of-type {\n",
       "        vertical-align: middle;\n",
       "    }\n",
       "\n",
       "    .dataframe tbody tr th {\n",
       "        vertical-align: top;\n",
       "    }\n",
       "\n",
       "    .dataframe thead th {\n",
       "        text-align: right;\n",
       "    }\n",
       "</style>\n",
       "<table border=\"1\" class=\"dataframe\">\n",
       "  <thead>\n",
       "    <tr style=\"text-align: right;\">\n",
       "      <th></th>\n",
       "      <th>hotel</th>\n",
       "      <th>is_canceled</th>\n",
       "      <th>lead_time</th>\n",
       "      <th>arrival_date_year</th>\n",
       "      <th>arrival_date_month</th>\n",
       "      <th>arrival_date_week_number</th>\n",
       "      <th>arrival_date_day_of_month</th>\n",
       "      <th>stays_in_weekend_nights</th>\n",
       "      <th>stays_in_week_nights</th>\n",
       "      <th>adults</th>\n",
       "      <th>...</th>\n",
       "      <th>deposit_type</th>\n",
       "      <th>agent</th>\n",
       "      <th>company</th>\n",
       "      <th>days_in_waiting_list</th>\n",
       "      <th>customer_type</th>\n",
       "      <th>adr</th>\n",
       "      <th>required_car_parking_spaces</th>\n",
       "      <th>total_of_special_requests</th>\n",
       "      <th>reservation_status</th>\n",
       "      <th>reservation_status_date</th>\n",
       "    </tr>\n",
       "  </thead>\n",
       "  <tbody>\n",
       "    <tr>\n",
       "      <th>0</th>\n",
       "      <td>Resort Hotel</td>\n",
       "      <td>0</td>\n",
       "      <td>342</td>\n",
       "      <td>2015</td>\n",
       "      <td>July</td>\n",
       "      <td>27</td>\n",
       "      <td>1</td>\n",
       "      <td>0</td>\n",
       "      <td>0</td>\n",
       "      <td>2</td>\n",
       "      <td>...</td>\n",
       "      <td>No Deposit</td>\n",
       "      <td>NaN</td>\n",
       "      <td>NaN</td>\n",
       "      <td>0</td>\n",
       "      <td>Transient</td>\n",
       "      <td>0.00</td>\n",
       "      <td>0</td>\n",
       "      <td>0</td>\n",
       "      <td>Check-Out</td>\n",
       "      <td>2015-07-01</td>\n",
       "    </tr>\n",
       "    <tr>\n",
       "      <th>1</th>\n",
       "      <td>Resort Hotel</td>\n",
       "      <td>0</td>\n",
       "      <td>737</td>\n",
       "      <td>2015</td>\n",
       "      <td>July</td>\n",
       "      <td>27</td>\n",
       "      <td>1</td>\n",
       "      <td>0</td>\n",
       "      <td>0</td>\n",
       "      <td>2</td>\n",
       "      <td>...</td>\n",
       "      <td>No Deposit</td>\n",
       "      <td>NaN</td>\n",
       "      <td>NaN</td>\n",
       "      <td>0</td>\n",
       "      <td>Transient</td>\n",
       "      <td>0.00</td>\n",
       "      <td>0</td>\n",
       "      <td>0</td>\n",
       "      <td>Check-Out</td>\n",
       "      <td>2015-07-01</td>\n",
       "    </tr>\n",
       "    <tr>\n",
       "      <th>2</th>\n",
       "      <td>Resort Hotel</td>\n",
       "      <td>0</td>\n",
       "      <td>7</td>\n",
       "      <td>2015</td>\n",
       "      <td>July</td>\n",
       "      <td>27</td>\n",
       "      <td>1</td>\n",
       "      <td>0</td>\n",
       "      <td>1</td>\n",
       "      <td>1</td>\n",
       "      <td>...</td>\n",
       "      <td>No Deposit</td>\n",
       "      <td>NaN</td>\n",
       "      <td>NaN</td>\n",
       "      <td>0</td>\n",
       "      <td>Transient</td>\n",
       "      <td>75.00</td>\n",
       "      <td>0</td>\n",
       "      <td>0</td>\n",
       "      <td>Check-Out</td>\n",
       "      <td>2015-07-02</td>\n",
       "    </tr>\n",
       "    <tr>\n",
       "      <th>3</th>\n",
       "      <td>Resort Hotel</td>\n",
       "      <td>0</td>\n",
       "      <td>13</td>\n",
       "      <td>2015</td>\n",
       "      <td>July</td>\n",
       "      <td>27</td>\n",
       "      <td>1</td>\n",
       "      <td>0</td>\n",
       "      <td>1</td>\n",
       "      <td>1</td>\n",
       "      <td>...</td>\n",
       "      <td>No Deposit</td>\n",
       "      <td>304.0</td>\n",
       "      <td>NaN</td>\n",
       "      <td>0</td>\n",
       "      <td>Transient</td>\n",
       "      <td>75.00</td>\n",
       "      <td>0</td>\n",
       "      <td>0</td>\n",
       "      <td>Check-Out</td>\n",
       "      <td>2015-07-02</td>\n",
       "    </tr>\n",
       "    <tr>\n",
       "      <th>4</th>\n",
       "      <td>Resort Hotel</td>\n",
       "      <td>0</td>\n",
       "      <td>14</td>\n",
       "      <td>2015</td>\n",
       "      <td>July</td>\n",
       "      <td>27</td>\n",
       "      <td>1</td>\n",
       "      <td>0</td>\n",
       "      <td>2</td>\n",
       "      <td>2</td>\n",
       "      <td>...</td>\n",
       "      <td>No Deposit</td>\n",
       "      <td>240.0</td>\n",
       "      <td>NaN</td>\n",
       "      <td>0</td>\n",
       "      <td>Transient</td>\n",
       "      <td>98.00</td>\n",
       "      <td>0</td>\n",
       "      <td>1</td>\n",
       "      <td>Check-Out</td>\n",
       "      <td>2015-07-03</td>\n",
       "    </tr>\n",
       "    <tr>\n",
       "      <th>...</th>\n",
       "      <td>...</td>\n",
       "      <td>...</td>\n",
       "      <td>...</td>\n",
       "      <td>...</td>\n",
       "      <td>...</td>\n",
       "      <td>...</td>\n",
       "      <td>...</td>\n",
       "      <td>...</td>\n",
       "      <td>...</td>\n",
       "      <td>...</td>\n",
       "      <td>...</td>\n",
       "      <td>...</td>\n",
       "      <td>...</td>\n",
       "      <td>...</td>\n",
       "      <td>...</td>\n",
       "      <td>...</td>\n",
       "      <td>...</td>\n",
       "      <td>...</td>\n",
       "      <td>...</td>\n",
       "      <td>...</td>\n",
       "      <td>...</td>\n",
       "    </tr>\n",
       "    <tr>\n",
       "      <th>119385</th>\n",
       "      <td>City Hotel</td>\n",
       "      <td>0</td>\n",
       "      <td>23</td>\n",
       "      <td>2017</td>\n",
       "      <td>August</td>\n",
       "      <td>35</td>\n",
       "      <td>30</td>\n",
       "      <td>2</td>\n",
       "      <td>5</td>\n",
       "      <td>2</td>\n",
       "      <td>...</td>\n",
       "      <td>No Deposit</td>\n",
       "      <td>394.0</td>\n",
       "      <td>NaN</td>\n",
       "      <td>0</td>\n",
       "      <td>Transient</td>\n",
       "      <td>96.14</td>\n",
       "      <td>0</td>\n",
       "      <td>0</td>\n",
       "      <td>Check-Out</td>\n",
       "      <td>2017-09-06</td>\n",
       "    </tr>\n",
       "    <tr>\n",
       "      <th>119386</th>\n",
       "      <td>City Hotel</td>\n",
       "      <td>0</td>\n",
       "      <td>102</td>\n",
       "      <td>2017</td>\n",
       "      <td>August</td>\n",
       "      <td>35</td>\n",
       "      <td>31</td>\n",
       "      <td>2</td>\n",
       "      <td>5</td>\n",
       "      <td>3</td>\n",
       "      <td>...</td>\n",
       "      <td>No Deposit</td>\n",
       "      <td>9.0</td>\n",
       "      <td>NaN</td>\n",
       "      <td>0</td>\n",
       "      <td>Transient</td>\n",
       "      <td>225.43</td>\n",
       "      <td>0</td>\n",
       "      <td>2</td>\n",
       "      <td>Check-Out</td>\n",
       "      <td>2017-09-07</td>\n",
       "    </tr>\n",
       "    <tr>\n",
       "      <th>119387</th>\n",
       "      <td>City Hotel</td>\n",
       "      <td>0</td>\n",
       "      <td>34</td>\n",
       "      <td>2017</td>\n",
       "      <td>August</td>\n",
       "      <td>35</td>\n",
       "      <td>31</td>\n",
       "      <td>2</td>\n",
       "      <td>5</td>\n",
       "      <td>2</td>\n",
       "      <td>...</td>\n",
       "      <td>No Deposit</td>\n",
       "      <td>9.0</td>\n",
       "      <td>NaN</td>\n",
       "      <td>0</td>\n",
       "      <td>Transient</td>\n",
       "      <td>157.71</td>\n",
       "      <td>0</td>\n",
       "      <td>4</td>\n",
       "      <td>Check-Out</td>\n",
       "      <td>2017-09-07</td>\n",
       "    </tr>\n",
       "    <tr>\n",
       "      <th>119388</th>\n",
       "      <td>City Hotel</td>\n",
       "      <td>0</td>\n",
       "      <td>109</td>\n",
       "      <td>2017</td>\n",
       "      <td>August</td>\n",
       "      <td>35</td>\n",
       "      <td>31</td>\n",
       "      <td>2</td>\n",
       "      <td>5</td>\n",
       "      <td>2</td>\n",
       "      <td>...</td>\n",
       "      <td>No Deposit</td>\n",
       "      <td>89.0</td>\n",
       "      <td>NaN</td>\n",
       "      <td>0</td>\n",
       "      <td>Transient</td>\n",
       "      <td>104.40</td>\n",
       "      <td>0</td>\n",
       "      <td>0</td>\n",
       "      <td>Check-Out</td>\n",
       "      <td>2017-09-07</td>\n",
       "    </tr>\n",
       "    <tr>\n",
       "      <th>119389</th>\n",
       "      <td>City Hotel</td>\n",
       "      <td>0</td>\n",
       "      <td>205</td>\n",
       "      <td>2017</td>\n",
       "      <td>August</td>\n",
       "      <td>35</td>\n",
       "      <td>29</td>\n",
       "      <td>2</td>\n",
       "      <td>7</td>\n",
       "      <td>2</td>\n",
       "      <td>...</td>\n",
       "      <td>No Deposit</td>\n",
       "      <td>9.0</td>\n",
       "      <td>NaN</td>\n",
       "      <td>0</td>\n",
       "      <td>Transient</td>\n",
       "      <td>151.20</td>\n",
       "      <td>0</td>\n",
       "      <td>2</td>\n",
       "      <td>Check-Out</td>\n",
       "      <td>2017-09-07</td>\n",
       "    </tr>\n",
       "  </tbody>\n",
       "</table>\n",
       "<p>119390 rows × 32 columns</p>\n",
       "</div>"
      ],
      "text/plain": [
       "               hotel  is_canceled  lead_time  arrival_date_year  \\\n",
       "0       Resort Hotel            0        342               2015   \n",
       "1       Resort Hotel            0        737               2015   \n",
       "2       Resort Hotel            0          7               2015   \n",
       "3       Resort Hotel            0         13               2015   \n",
       "4       Resort Hotel            0         14               2015   \n",
       "...              ...          ...        ...                ...   \n",
       "119385    City Hotel            0         23               2017   \n",
       "119386    City Hotel            0        102               2017   \n",
       "119387    City Hotel            0         34               2017   \n",
       "119388    City Hotel            0        109               2017   \n",
       "119389    City Hotel            0        205               2017   \n",
       "\n",
       "       arrival_date_month  arrival_date_week_number  \\\n",
       "0                    July                        27   \n",
       "1                    July                        27   \n",
       "2                    July                        27   \n",
       "3                    July                        27   \n",
       "4                    July                        27   \n",
       "...                   ...                       ...   \n",
       "119385             August                        35   \n",
       "119386             August                        35   \n",
       "119387             August                        35   \n",
       "119388             August                        35   \n",
       "119389             August                        35   \n",
       "\n",
       "        arrival_date_day_of_month  stays_in_weekend_nights  \\\n",
       "0                               1                        0   \n",
       "1                               1                        0   \n",
       "2                               1                        0   \n",
       "3                               1                        0   \n",
       "4                               1                        0   \n",
       "...                           ...                      ...   \n",
       "119385                         30                        2   \n",
       "119386                         31                        2   \n",
       "119387                         31                        2   \n",
       "119388                         31                        2   \n",
       "119389                         29                        2   \n",
       "\n",
       "        stays_in_week_nights  adults  ...  deposit_type  agent company  \\\n",
       "0                          0       2  ...    No Deposit    NaN     NaN   \n",
       "1                          0       2  ...    No Deposit    NaN     NaN   \n",
       "2                          1       1  ...    No Deposit    NaN     NaN   \n",
       "3                          1       1  ...    No Deposit  304.0     NaN   \n",
       "4                          2       2  ...    No Deposit  240.0     NaN   \n",
       "...                      ...     ...  ...           ...    ...     ...   \n",
       "119385                     5       2  ...    No Deposit  394.0     NaN   \n",
       "119386                     5       3  ...    No Deposit    9.0     NaN   \n",
       "119387                     5       2  ...    No Deposit    9.0     NaN   \n",
       "119388                     5       2  ...    No Deposit   89.0     NaN   \n",
       "119389                     7       2  ...    No Deposit    9.0     NaN   \n",
       "\n",
       "       days_in_waiting_list customer_type     adr  \\\n",
       "0                         0     Transient    0.00   \n",
       "1                         0     Transient    0.00   \n",
       "2                         0     Transient   75.00   \n",
       "3                         0     Transient   75.00   \n",
       "4                         0     Transient   98.00   \n",
       "...                     ...           ...     ...   \n",
       "119385                    0     Transient   96.14   \n",
       "119386                    0     Transient  225.43   \n",
       "119387                    0     Transient  157.71   \n",
       "119388                    0     Transient  104.40   \n",
       "119389                    0     Transient  151.20   \n",
       "\n",
       "        required_car_parking_spaces  total_of_special_requests  \\\n",
       "0                                 0                          0   \n",
       "1                                 0                          0   \n",
       "2                                 0                          0   \n",
       "3                                 0                          0   \n",
       "4                                 0                          1   \n",
       "...                             ...                        ...   \n",
       "119385                            0                          0   \n",
       "119386                            0                          2   \n",
       "119387                            0                          4   \n",
       "119388                            0                          0   \n",
       "119389                            0                          2   \n",
       "\n",
       "        reservation_status reservation_status_date  \n",
       "0                Check-Out              2015-07-01  \n",
       "1                Check-Out              2015-07-01  \n",
       "2                Check-Out              2015-07-02  \n",
       "3                Check-Out              2015-07-02  \n",
       "4                Check-Out              2015-07-03  \n",
       "...                    ...                     ...  \n",
       "119385           Check-Out              2017-09-06  \n",
       "119386           Check-Out              2017-09-07  \n",
       "119387           Check-Out              2017-09-07  \n",
       "119388           Check-Out              2017-09-07  \n",
       "119389           Check-Out              2017-09-07  \n",
       "\n",
       "[119390 rows x 32 columns]"
      ]
     },
     "execution_count": 2,
     "metadata": {},
     "output_type": "execute_result"
    }
   ],
   "source": [
    "hotel = pd.read_csv('hotel_bookings.csv')\n",
    "hotel"
   ]
  },
  {
   "cell_type": "code",
   "execution_count": 3,
   "id": "daf0ce2f-bfc6-4f72-9097-98614b08eac2",
   "metadata": {},
   "outputs": [
    {
     "data": {
      "text/plain": [
       "City Hotel      79330\n",
       "Resort Hotel    40060\n",
       "Name: hotel, dtype: int64"
      ]
     },
     "execution_count": 3,
     "metadata": {},
     "output_type": "execute_result"
    }
   ],
   "source": [
    "hotel_names = hotel[\"hotel\"].value_counts() #frequesncy table\n",
    "hotel_names"
   ]
  },
  {
   "cell_type": "code",
   "execution_count": 4,
   "id": "60558f27-782b-4414-af84-e93374a498a3",
   "metadata": {},
   "outputs": [
    {
     "data": {
      "text/plain": [
       "Index(['City Hotel', 'Resort Hotel'], dtype='object')"
      ]
     },
     "execution_count": 4,
     "metadata": {},
     "output_type": "execute_result"
    }
   ],
   "source": [
    "hotel_names.index"
   ]
  },
  {
   "cell_type": "code",
   "execution_count": 5,
   "id": "47fb2881-a14a-4cbf-bdb5-584b22687b94",
   "metadata": {},
   "outputs": [
    {
     "data": {
      "text/plain": [
       "array([79330, 40060], dtype=int64)"
      ]
     },
     "execution_count": 5,
     "metadata": {},
     "output_type": "execute_result"
    }
   ],
   "source": [
    "y = hotel_names.values\n",
    "y"
   ]
  },
  {
   "cell_type": "code",
   "execution_count": 6,
   "id": "b3e23943-a74a-4f51-ab26-de481bc13d2a",
   "metadata": {},
   "outputs": [
    {
     "data": {
      "text/plain": [
       "Index(['City Hotel', 'Resort Hotel'], dtype='object')"
      ]
     },
     "execution_count": 6,
     "metadata": {},
     "output_type": "execute_result"
    }
   ],
   "source": [
    "x = hotel_names.index\n",
    "x"
   ]
  },
  {
   "cell_type": "code",
   "execution_count": 7,
   "id": "e24ad4d6-103d-4bfd-91af-3565c18fd2c5",
   "metadata": {},
   "outputs": [
    {
     "data": {
      "text/plain": [
       "<BarContainer object of 2 artists>"
      ]
     },
     "execution_count": 7,
     "metadata": {},
     "output_type": "execute_result"
    },
    {
     "data": {
      "image/png": "[encoded data removed]",
      "text/plain": [
       "<Figure size 640x480 with 1 Axes>"
      ]
     },
     "metadata": {},
     "output_type": "display_data"
    }
   ],
   "source": [
    "plt.title(\"Hotel Freq\")\n",
    "plt.xlabel(\"Hotel Names\")\n",
    "plt.ylabel(\"Freq\")\n",
    "plt.xticks(rotation=20)\n",
    "# plt.figure(figsize = (1,10))\n",
    "plt.bar(x, y, color=['red', 'blue'])\n",
    "# plt.show()\n"
   ]
  },
  {
   "cell_type": "code",
   "execution_count": 8,
   "id": "2d477492-e823-4b9d-bd0a-abb891bee1ec",
   "metadata": {},
   "outputs": [
    {
     "data": {
      "image/png": "[encoded data removed]",
      "text/plain": [
       "<Figure size 640x480 with 1 Axes>"
      ]
     },
     "metadata": {},
     "output_type": "display_data"
    },
    {
     "data": {
      "image/png": "[encoded data removed]",
      "text/plain": [
       "<Figure size 100x100 with 1 Axes>"
      ]
     },
     "metadata": {},
     "output_type": "display_data"
    }
   ],
   "source": [
    "plt.title(\"Pie test\")\n",
    "plt.figure(figsize=(1,1))\n",
    "plt.pie(y, labels=x, colors=['red', 'teal'], )\n",
    "plt.show()"
   ]
  },
  {
   "cell_type": "code",
   "execution_count": 9,
   "id": "c276e51a-e743-4a38-8b1f-029a3ea81842",
   "metadata": {},
   "outputs": [
    {
     "data": {
      "text/plain": [
       "<AxesSubplot: >"
      ]
     },
     "execution_count": 9,
     "metadata": {},
     "output_type": "execute_result"
    },
    {
     "data": {
      "image/png": "[encoded data removed]",
      "text/plain": [
       "<Figure size 640x480 with 1 Axes>"
      ]
     },
     "metadata": {},
     "output_type": "display_data"
    }
   ],
   "source": [
    "plt.grid(axis=\"y\", linestyle=\"--\", alpha=0.5)\n",
    "hotel_names.plot(kind='bar', color=[\"red\", \"teal\"], grid=True)\n"
   ]
  },
  {
   "cell_type": "code",
   "execution_count": 10,
   "id": "761e578a-e193-487d-b792-112b0bd1237d",
   "metadata": {},
   "outputs": [],
   "source": [
    "import seaborn as sns"
   ]
  },
  {
   "cell_type": "code",
   "execution_count": 11,
   "id": "f8488b9a-f1c4-4f6d-bd09-fc27702937bd",
   "metadata": {},
   "outputs": [
    {
     "data": {
      "text/plain": [
       "<AxesSubplot: ylabel='hotel'>"
      ]
     },
     "execution_count": 11,
     "metadata": {},
     "output_type": "execute_result"
    },
    {
     "data": {
      "image/png": "[encoded data removed]",
      "text/plain": [
       "<Figure size 640x480 with 1 Axes>"
      ]
     },
     "metadata": {},
     "output_type": "display_data"
    }
   ],
   "source": [
    "sns.barplot(hotel_names)"
   ]
  },
  {
   "cell_type": "code",
   "execution_count": 12,
   "id": "b4047c49-7340-48b9-845b-38540c5793ae",
   "metadata": {},
   "outputs": [],
   "source": [
    "drinks = pd.read_csv(\"drinks.csv\")"
   ]
  },
  {
   "cell_type": "code",
   "execution_count": 13,
   "id": "c48134de-cd17-47a6-966a-c086dc2acffc",
   "metadata": {},
   "outputs": [],
   "source": [
    "drinks = drinks.value_counts()"
   ]
  },
  {
   "cell_type": "code",
   "execution_count": 14,
   "id": "79de4b5c-6338-46a1-b814-d50a35733de0",
   "metadata": {},
   "outputs": [
    {
     "data": {
      "text/plain": [
       "drinks      \n",
       "Coke Classic    19\n",
       "Pepsi           13\n",
       "Diet Coke        8\n",
       "Dr. Pepper       5\n",
       "Sprite           5\n",
       "dtype: int64"
      ]
     },
     "execution_count": 14,
     "metadata": {},
     "output_type": "execute_result"
    }
   ],
   "source": [
    "drinks"
   ]
  },
  {
   "cell_type": "code",
   "execution_count": 15,
   "id": "b1a946b4-3069-41ba-b3bf-509574deacdb",
   "metadata": {},
   "outputs": [
    {
     "data": {
      "text/plain": [
       "<AxesSubplot: xlabel='drinks'>"
      ]
     },
     "execution_count": 15,
     "metadata": {},
     "output_type": "execute_result"
    },
    {
     "data": {
      "image/png": "[encoded data removed]",
      "text/plain": [
       "<Figure size 640x480 with 1 Axes>"
      ]
     },
     "metadata": {},
     "output_type": "display_data"
    }
   ],
   "source": [
    "drinks.plot(kind=\"bar\", color=['red','teal','blue','orange'])"
   ]
  },
  {
   "cell_type": "code",
   "execution_count": 16,
   "id": "dbd83bf1-1100-4d4f-b05e-024c851546b1",
   "metadata": {},
   "outputs": [
    {
     "name": "stdout",
     "output_type": "stream",
     "text": [
      "1.05\n"
     ]
    }
   ],
   "source": [
    "data = [ 12, 15, 20, 22, 14, 14, 15, 27, 21, 18, 19, 18, 22, 33, 16, 18, 17, 23, 28, 13]\n",
    "lenth = len(data)\n",
    "minVal = min(data)\n",
    "maxVal = max(data)\n",
    "\n",
    "width = (maxVal - minVal)/lenth\n",
    "print(width)"
   ]
  },
  {
   "cell_type": "code",
   "execution_count": 17,
   "id": "81bcd147-edbb-4109-844c-b029c042186e",
   "metadata": {},
   "outputs": [
    {
     "data": {
      "text/plain": [
       "1"
      ]
     },
     "execution_count": 17,
     "metadata": {},
     "output_type": "execute_result"
    }
   ],
   "source": [
    "data.count(16)"
   ]
  },
  {
   "cell_type": "code",
   "execution_count": 18,
   "id": "5a91fcad-e9ed-493a-9785-a77b410b177e",
   "metadata": {},
   "outputs": [],
   "source": [
    "# quantitive\n",
    "#scatter diagram"
   ]
  },
  {
   "cell_type": "code",
   "execution_count": 15,
   "id": "cf751813-1d2d-464d-8fad-d3acf4529cb3",
   "metadata": {},
   "outputs": [
    {
     "name": "stdout",
     "output_type": "stream",
     "text": [
      "10\n",
      "10\n"
     ]
    }
   ],
   "source": [
    "x = [12,32,12,32,34,56,6,78,12,23]\n",
    "y = [8,14,12,20,22,27,18,24,12,14]\n",
    "print(len(x))\n",
    "print(len(y))"
   ]
  },
  {
   "cell_type": "code",
   "execution_count": 30,
   "id": "ec74e47c-521e-4614-ba0d-4a887575bd59",
   "metadata": {},
   "outputs": [
    {
     "data": {
      "text/plain": [
       "<matplotlib.collections.PathCollection at 0x14c561d8e90>"
      ]
     },
     "execution_count": 30,
     "metadata": {},
     "output_type": "execute_result"
    },
    {
     "data": {
      "image/png": "[encoded data removed]",
      "text/plain": [
       "<Figure size 640x480 with 1 Axes>"
      ]
     },
     "metadata": {},
     "output_type": "display_data"
    }
   ],
   "source": [
    "plt.xlabel(\"X\")\n",
    "plt.ylabel(\"Y\")\n",
    "plt.title(\"Test\")\n",
    "plt.scatter(x,y)"
   ]
  },
  {
   "cell_type": "code",
   "execution_count": 2,
   "id": "2ab70e17-adcf-4c27-9c62-061e34bd52e5",
   "metadata": {},
   "outputs": [
    {
     "data": {
      "text/html": [
       "<div>\n",
       "<style scoped>\n",
       "    .dataframe tbody tr th:only-of-type {\n",
       "        vertical-align: middle;\n",
       "    }\n",
       "\n",
       "    .dataframe tbody tr th {\n",
       "        vertical-align: top;\n",
       "    }\n",
       "\n",
       "    .dataframe thead th {\n",
       "        text-align: right;\n",
       "    }\n",
       "</style>\n",
       "<table border=\"1\" class=\"dataframe\">\n",
       "  <thead>\n",
       "    <tr style=\"text-align: right;\">\n",
       "      <th></th>\n",
       "      <th>x</th>\n",
       "      <th>y</th>\n",
       "    </tr>\n",
       "  </thead>\n",
       "  <tbody>\n",
       "    <tr>\n",
       "      <th>0</th>\n",
       "      <td>12</td>\n",
       "      <td>32</td>\n",
       "    </tr>\n",
       "    <tr>\n",
       "      <th>1</th>\n",
       "      <td>12</td>\n",
       "      <td>43</td>\n",
       "    </tr>\n",
       "    <tr>\n",
       "      <th>2</th>\n",
       "      <td>32</td>\n",
       "      <td>54</td>\n",
       "    </tr>\n",
       "    <tr>\n",
       "      <th>3</th>\n",
       "      <td>43</td>\n",
       "      <td>65</td>\n",
       "    </tr>\n",
       "    <tr>\n",
       "      <th>4</th>\n",
       "      <td>12</td>\n",
       "      <td>67</td>\n",
       "    </tr>\n",
       "    <tr>\n",
       "      <th>5</th>\n",
       "      <td>11</td>\n",
       "      <td>76</td>\n",
       "    </tr>\n",
       "    <tr>\n",
       "      <th>6</th>\n",
       "      <td>32</td>\n",
       "      <td>87</td>\n",
       "    </tr>\n",
       "    <tr>\n",
       "      <th>7</th>\n",
       "      <td>3</td>\n",
       "      <td>98</td>\n",
       "    </tr>\n",
       "    <tr>\n",
       "      <th>8</th>\n",
       "      <td>21</td>\n",
       "      <td>5</td>\n",
       "    </tr>\n",
       "    <tr>\n",
       "      <th>9</th>\n",
       "      <td>45</td>\n",
       "      <td>33</td>\n",
       "    </tr>\n",
       "  </tbody>\n",
       "</table>\n",
       "</div>"
      ],
      "text/plain": [
       "    x   y\n",
       "0  12  32\n",
       "1  12  43\n",
       "2  32  54\n",
       "3  43  65\n",
       "4  12  67\n",
       "5  11  76\n",
       "6  32  87\n",
       "7   3  98\n",
       "8  21   5\n",
       "9  45  33"
      ]
     },
     "execution_count": 2,
     "metadata": {},
     "output_type": "execute_result"
    }
   ],
   "source": [
    "scatter_csv = pd.read_csv(\"test_scatter.csv\")\n",
    "scatter_csv"
   ]
  },
  {
   "cell_type": "code",
   "execution_count": 39,
   "id": "d5539db9-589f-409d-8687-b49c08547f58",
   "metadata": {},
   "outputs": [
    {
     "data": {
      "text/plain": [
       "<matplotlib.collections.PathCollection at 0x14c611ec190>"
      ]
     },
     "execution_count": 39,
     "metadata": {},
     "output_type": "execute_result"
    },
    {
     "data": {
      "image/png": "[encoded data removed]",
      "text/plain": [
       "<Figure size 640x480 with 1 Axes>"
      ]
     },
     "metadata": {},
     "output_type": "display_data"
    }
   ],
   "source": [
    "plt.scatter( scatter_csv[\"x\"].tolist(), scatter_csv[\"y\"].tolist())"
   ]
  },
  {
   "cell_type": "code",
   "execution_count": 41,
   "id": "a7d9dc7b-911d-40f6-af4c-d2ac11f68c9a",
   "metadata": {},
   "outputs": [
    {
     "data": {
      "image/png": "[encoded data removed]",
      "text/plain": [
       "<Figure size 640x480 with 1 Axes>"
      ]
     },
     "metadata": {},
     "output_type": "display_data"
    },
    {
     "data": {
      "text/plain": [
       "<Figure size 100x100 with 0 Axes>"
      ]
     },
     "metadata": {},
     "output_type": "display_data"
    }
   ],
   "source": [
    "# line chart\n",
    "plt.xlabel('Random Values')\n",
    "plt.legend(\"Test Line Chart\")\n",
    "plt.title(\"Test Line\")\n",
    "plt.plot(scatter_csv['x'], marker='o')\n",
    "plt.figure(figsize=(5,5))\n",
    "plt.show()"
   ]
  },
  {
   "cell_type": "code",
   "execution_count": 34,
   "id": "60bd289e-3641-4d58-aa7a-79758f82eeb2",
   "metadata": {},
   "outputs": [
    {
     "data": {
      "text/plain": [
       "<matplotlib.collections.PolyCollection at 0x181de50b210>"
      ]
     },
     "execution_count": 34,
     "metadata": {},
     "output_type": "execute_result"
    },
    {
     "data": {
      "image/png": "[encoded data removed]",
      "text/plain": [
       "<Figure size 640x480 with 1 Axes>"
      ]
     },
     "metadata": {},
     "output_type": "display_data"
    }
   ],
   "source": [
    "#area chart\n",
    "plt.fill_between( scatter_csv['x'], scatter_csv['y'], color='teal', alpha=0.5)"
   ]
  },
  {
   "cell_type": "code",
   "execution_count": 3,
   "id": "42753019-7089-42b0-b41c-6bbcd4fdda16",
   "metadata": {},
   "outputs": [
    {
     "data": {
      "text/plain": [
       "(array([3., 3., 4., 3., 4.]),\n",
       " array([12., 18., 24., 30., 36., 42.]),\n",
       " <BarContainer object of 5 artists>)"
      ]
     },
     "execution_count": 3,
     "metadata": {},
     "output_type": "execute_result"
    },
    {
     "data": {
      "image/png": "[encoded data removed]",
      "text/plain": [
       "<Figure size 640x480 with 1 Axes>"
      ]
     },
     "metadata": {},
     "output_type": "display_data"
    }
   ],
   "source": [
    "# histogram\n",
    "data = [ 12, 15, 17, 19, 22, 22, 24, 26, 28, 28, 30, 33, 35, 37, 39, 40, 42]\n",
    "# len(data)\n",
    "plt.hist(data, bins=5, color='red', edgecolor='#000') # bins = number of classes/ranges"
   ]
  },
  {
   "cell_type": "code",
   "execution_count": 71,
   "id": "094ae075-7181-4627-98bd-6853a68dbfae",
   "metadata": {},
   "outputs": [
    {
     "data": {
      "text/plain": [
       "(array([4., 6., 5., 2.]),\n",
       " array([10., 20., 30., 40., 42.]),\n",
       " <BarContainer object of 4 artists>)"
      ]
     },
     "execution_count": 71,
     "metadata": {},
     "output_type": "execute_result"
    },
    {
     "data": {
      "image/png": "[encoded data removed]",
      "text/plain": [
       "<Figure size 640x480 with 1 Axes>"
      ]
     },
     "metadata": {},
     "output_type": "display_data"
    }
   ],
   "source": [
    "plt.grid()\n",
    "plt.hist(data, bins=[10,20,30,40,42], color='red', edgecolor='#000') # bin = ranges 10-20-30-40-50"
   ]
  },
  {
   "cell_type": "code",
   "execution_count": 4,
   "id": "500f885d-dd33-492f-ba23-f98d30b99473",
   "metadata": {},
   "outputs": [
    {
     "data": {
      "text/plain": [
       "[<matplotlib.lines.Line2D at 0x1fdc93a2a10>]"
      ]
     },
     "execution_count": 4,
     "metadata": {},
     "output_type": "execute_result"
    },
    {
     "data": {
      "image/png": "[encoded data removed]",
      "text/plain": [
       "<Figure size 640x480 with 1 Axes>"
      ]
     },
     "metadata": {},
     "output_type": "display_data"
    }
   ],
   "source": [
    "# ogive cummulative freq\n",
    "data = [12,14,19,18,15,15,18,17,20,27,22,23,22,21,33,28,14,18,16,13]\n",
    "df = pd.DataFrame(data)\n",
    "freq = df.value_counts()\n",
    "f_cumsum = freq.cumsum()\n",
    "\n",
    "plt.plot(f_cumsum.tolist(), marker='o')"
   ]
  },
  {
   "cell_type": "code",
   "execution_count": 1,
   "id": "d0dd9b90-8b50-4553-964e-be7c1768a95a",
   "metadata": {},
   "outputs": [],
   "source": [
    "##\n",
    "import numpy as np \n",
    "import pandas as pd \n",
    "from scipy import stats\n",
    "from statistics import mean, median, mode\n",
    "import matplotlib.pyplot as plt\n",
    "import seaborn as sns"
   ]
  },
  {
   "cell_type": "markdown",
   "id": "7d980430-2059-43e1-ae74-53a88042023b",
   "metadata": {},
   "source": [
    "### using array"
   ]
  },
  {
   "cell_type": "code",
   "execution_count": 9,
   "id": "c7c47c31-80bb-43de-aaea-d69eacad2fe5",
   "metadata": {},
   "outputs": [
    {
     "name": "stdout",
     "output_type": "stream",
     "text": [
      "mean 168.125\n",
      "Median:  169.0\n",
      "Mode:  155\n"
     ]
    },
    {
     "name": "stderr",
     "output_type": "stream",
     "text": [
      "C:\\Users\\Rohit\\AppData\\Local\\Temp\\ipykernel_11108\\1877994752.py:10: FutureWarning: Unlike other reduction functions (e.g. `skew`, `kurtosis`), the default behavior of `mode` typically preserves the axis it acts along. In SciPy 1.11.0, this behavior will change: the default value of `keepdims` will become False, the `axis` over which the statistic is taken will be eliminated, and the value None will no longer be accepted. Set `keepdims` to True or False to avoid this warning.\n",
      "  mode_arr = stats.mode(arr)\n"
     ]
    }
   ],
   "source": [
    "arr = np.array([165, 170, 155, 172, 168, 175, 160, 180])\n",
    "\n",
    "#mean\n",
    "mean_arr = np.mean(arr)\n",
    "print(\"mean\", mean_arr)\n",
    "\n",
    "median_arr = np.median(arr)\n",
    "print(\"Median: \", median_arr)\n",
    "\n",
    "mode_arr = stats.mode(arr)\n",
    "print(\"Mode: \", mode_arr.mode[0])"
   ]
  },
  {
   "cell_type": "code",
   "execution_count": 12,
   "id": "c414d3bd-ba67-4326-8733-c09106a3b236",
   "metadata": {},
   "outputs": [
    {
     "name": "stdout",
     "output_type": "stream",
     "text": [
      "IQR 5.25\n",
      "Variance 10.488888888888887\n",
      "Standard deviation 3.2386554137309647\n",
      "Co var: 22.182571326924418\n"
     ]
    }
   ],
   "source": [
    "arr = np.array([12, 15, 14, 10, 18, 12, 20, 12, 15, 18])\n",
    "\n",
    "range_arr = np.max(arr) - np.min(arr)\n",
    "\n",
    "# q3 - q1\n",
    "iqr_arr = np.percentile(arr, 75) - np.percentile(arr, 25)\n",
    "\n",
    "variance_arr = np.var(arr, ddof=1)\n",
    "\n",
    "#standard deviation\n",
    "std_dev_arr = np.std(arr, ddof=1)\n",
    "\n",
    "print(\"IQR\", iqr_arr)\n",
    "print(\"Variance\", variance_arr)\n",
    "print(\"Standard deviation\", std_dev_arr)\n",
    "\n",
    "#co of variance\n",
    "cv_arr = (std_dev_arr / np.mean(arr)) * 100\n",
    "\n",
    "print(\"Co var:\", cv_arr)"
   ]
  },
  {
   "cell_type": "code",
   "execution_count": 24,
   "id": "ba347846-cc1b-430d-a2e2-cfde0a0e6a53",
   "metadata": {},
   "outputs": [
    {
     "name": "stdout",
     "output_type": "stream",
     "text": [
      "skew arr: [-0.41712835 -0.30125937 -0.33988236 -0.49437434 -0.18539038 -0.41712835\n",
      " -0.10814439 -0.41712835  2.98169525 -0.30125937]\n",
      "kurt arr: 4.922280232764973\n",
      "z scores arr: [-0.41712835 -0.30125937 -0.33988236 -0.49437434 -0.18539038 -0.41712835\n",
      " -0.10814439 -0.41712835  2.98169525 -0.30125937]\n",
      "outliers: []\n",
      "emp arr: [ 12  15  14  10  18  12  20  12 100  15]\n"
     ]
    },
    {
     "data": {
      "image/png": "[encoded data removed]",
      "text/plain": [
       "<Figure size 600x400 with 1 Axes>"
      ]
     },
     "metadata": {},
     "output_type": "display_data"
    }
   ],
   "source": [
    "arr = np.array([12, 15, 14, 10, 18, 12, 20, 12, 100, 15])\n",
    "\n",
    "#shape : skewness & Kurtosis\n",
    "skew_arr = (arr - np.mean(arr)) / np.std(arr)\n",
    "print(\"skew arr:\",skew_arr)\n",
    "\n",
    "Kurt_arr = np.sum((arr - np.mean(arr)) ** 4)/ (len(arr) * (np.std(arr)**4)) - 3\n",
    "print(\"kurt arr:\", Kurt_arr)\n",
    "\n",
    "#z scores\n",
    "z_scores_arr = (arr - np.mean(arr)) / np.std(arr)\n",
    "print(\"z scores arr:\", z_scores_arr)\n",
    "\n",
    "#Detecting outliers \n",
    "outliers_arr = arr[np.abs(z_scores_arr) > 3]\n",
    "print(\"outliers:\", outliers_arr)\n",
    "\n",
    "#Empirical Rule\n",
    "mean_arr = np.mean(arr)\n",
    "std_arr = np.std(arr)\n",
    "empirical_arr = arr[(arr >= mean_arr - 3 * std_arr) & (arr <= mean_arr + 3 * std_arr)]\n",
    "print(\"emp arr:\", empirical_arr)\n",
    "#Box plot for outliers Detection\n",
    "\n",
    "plt.figure(figsize=(6,4))\n",
    "plt.title(\"Box Plot - Array\")\n",
    "plt.boxplot(arr, vert=False)\n",
    "plt.show()"
   ]
  },
  {
   "cell_type": "code",
   "execution_count": null,
   "id": "12b30121-41d8-4c9e-842b-72060319e231",
   "metadata": {},
   "outputs": [],
   "source": [
    "arr1 = np.array([12, 15, 14, 10, 18, 12, 15, 18])\n",
    "arr2 = np.array([8, 9, 7, 6, 10, 8, 11, 9, 8, 10])\n",
    "\n",
    "#covariance\n",
    "cov_arr = np.cov(arr1, arr2, ddof=1)[0,1]\n",
    "\n",
    "#correlation coefficient\n",
    "corr_arr = np.corrcoef(arr1, arr2)[0,1]\n",
    "\n",
    "#Interpretation\n",
    "cov_interpretation = \"positive relation\" if cov_arr > 0 else \"Negative relationship\" if \n",
    "corr_interpretation = \"strong relationship\" if abs(corr_arr) > 0.7 else \"\""
   ]
  },
  {
   "cell_type": "markdown",
   "id": "ba1e91ce-1dc8-4332-b8a2-ad49a7fa605c",
   "metadata": {},
   "source": [
    "### using list"
   ]
  },
  {
   "cell_type": "code",
   "execution_count": 26,
   "id": "da8286bb-0486-44ad-bacc-118c3847d15f",
   "metadata": {},
   "outputs": [
    {
     "name": "stdout",
     "output_type": "stream",
     "text": [
      "35.5\n",
      "35.0\n",
      "35\n"
     ]
    }
   ],
   "source": [
    "lst = [30, 35, 40, 38, 36, 35, 32, 34, 40, 35]\n",
    "\n",
    "#mean\n",
    "mean_lst = mean(lst)\n",
    "print(mean_lst)\n",
    "\n",
    "#meadian\n",
    "median_lst = median(lst)\n",
    "print(median_lst)\n",
    "\n",
    "#mode\n",
    "mode_lst = mode(lst)\n",
    "print(mode_lst)\n"
   ]
  },
  {
   "cell_type": "code",
   "execution_count": 28,
   "id": "c91bda23-307a-4e36-b0b3-a362330c7558",
   "metadata": {},
   "outputs": [],
   "source": [
    "lst = [30, 35, 40, 38, 36, 35, 32, 34, 40, 35]\n",
    "\n",
    "#range\n",
    "range_lst = max(lst) - min(lst)\n",
    "\n",
    "#interquatile Range (IQR)\n",
    "q75, q25 = np.percentile(lst, [75, 25])\n",
    "iqr_lst = q75 - q25\n",
    "\n",
    "#variance\n",
    "variance_lst = np.var(lst, ddof = 1)\n",
    "\n",
    "#standard deviation\n",
    "std_dev_lst = np.std(lst, ddof=1)\n",
    "\n",
    "#coefficient of variation\n",
    "cv_lst = (std_dev_lst / np.mean(lst)) * 100\n",
    "\n",
    "lst = [30, 35, 40, 38, 36, 35, 32, 34, 150, 35]\n"
   ]
  },
  {
   "cell_type": "markdown",
   "id": "9d4fcc4d-1287-4f82-bfaf-1f5c85673b43",
   "metadata": {},
   "source": [
    "### using dataframe"
   ]
  },
  {
   "cell_type": "code",
   "execution_count": 2,
   "id": "d80ad48f-c07c-47ad-b5ae-84da19a6aa82",
   "metadata": {},
   "outputs": [
    {
     "name": "stdout",
     "output_type": "stream",
     "text": [
      "Mean:\n",
      " Height    168.125\n",
      "Weight     67.500\n",
      "dtype: float64\n",
      "Median :\n",
      " Height    169.0\n",
      "Weight     69.0\n",
      "dtype: float64\n",
      "\n",
      " Mode:\n",
      "    Height  Weight\n",
      "0     155      55\n",
      "1     160      58\n",
      "2     165      60\n",
      "3     168      68\n",
      "4     170      70\n",
      "5     172      72\n",
      "6     175      75\n",
      "7     180      82\n"
     ]
    }
   ],
   "source": [
    "data = {\"Height\":[165, 170, 155, 172, 168, 175, 160, 180],\"Weight\":[60, 72, 55, 68, 70, 75, 58, 82]}\n",
    "df = pd.DataFrame(data)\n",
    "\n",
    "mean_df = df.mean()\n",
    "print(\"Mean:\\n\", mean_df)\n",
    "\n",
    "#Median (for all numeric columns)\n",
    "median_df = df.median()\n",
    "print(\"Median :\\n\", median_df)\n",
    "\n",
    "mode_df = df.mode()\n",
    "print(\"\\n Mode:\\n\",mode_df)"
   ]
  },
  {
   "cell_type": "code",
   "execution_count": null,
   "id": "747d0754-ae29-4434-ae63-b17237ab1082",
   "metadata": {},
   "outputs": [],
   "source": []
  },
  {
   "cell_type": "code",
   "execution_count": 9,
   "id": "ecc3b9f9-7425-4bfb-a3a1-f4ba834147f3",
   "metadata": {},
   "outputs": [
    {
     "name": "stdout",
     "output_type": "stream",
     "text": [
      "Mean: 86.7\n",
      "Median: 86.5\n",
      "Mode: 78\n"
     ]
    },
    {
     "data": {
      "text/plain": [
       "78    2\n",
       "85    2\n",
       "92    2\n",
       "88    1\n",
       "84    1\n",
       "95    1\n",
       "90    1\n",
       "Name: Marks, dtype: int64"
      ]
     },
     "execution_count": 9,
     "metadata": {},
     "output_type": "execute_result"
    }
   ],
   "source": [
    "data = {\n",
    "    'Marks' : [78,85, 92,88,84,78,95,90,92,85]\n",
    "}\n",
    "\n",
    "df = pd.DataFrame(data)\n",
    "\n",
    "mean_df = df['Marks'].mean()\n",
    "print(\"Mean:\", mean_df)\n",
    "\n",
    "median_df = df['Marks'].median()\n",
    "print(\"Median:\", median_df)\n",
    "\n",
    "mode_df = df['Marks'].mode().iloc[0]\n",
    "print(\"Mode:\", mode_df)\n",
    "\n",
    "df['Marks'].value_counts()"
   ]
  },
  {
   "cell_type": "code",
   "execution_count": 13,
   "id": "49ea1c3d-a80f-4b38-98b5-b8c878084e00",
   "metadata": {},
   "outputs": [
    {
     "name": "stdout",
     "output_type": "stream",
     "text": [
      "Range: 17\n",
      "IQR: 7.25\n",
      "Variance:\n",
      " 33.56666666666667\n",
      "STD:\n",
      " 5.793674711844519\n",
      "Co var:\n",
      " 6.6824391140075186\n",
      "Skew:\n",
      " -0.3134089440630906\n",
      "Kurt:\n",
      " -0.8577522951483174\n",
      "Z score:\n",
      " 0   -1.501638\n",
      "1   -0.293423\n",
      "2    0.914791\n",
      "3    0.224383\n",
      "4   -0.466025\n",
      "5   -1.501638\n",
      "6    1.432597\n",
      "7    0.569587\n",
      "8    0.914791\n",
      "9   -0.293423\n",
      "Name: z_score, dtype: float64\n",
      "outliers:\n",
      " Empty DataFrame\n",
      "Columns: [Marks, z_score]\n",
      "Index: []\n",
      "EMpirical:\n",
      "    Marks   z_score\n",
      "0     78 -1.501638\n",
      "1     85 -0.293423\n",
      "2     92  0.914791\n",
      "3     88  0.224383\n",
      "4     84 -0.466025\n",
      "5     78 -1.501638\n",
      "6     95  1.432597\n",
      "7     90  0.569587\n",
      "8     92  0.914791\n",
      "9     85 -0.293423\n"
     ]
    },
    {
     "data": {
      "image/png": "[encoded data removed]",
      "text/plain": [
       "<Figure size 640x480 with 1 Axes>"
      ]
     },
     "metadata": {},
     "output_type": "display_data"
    }
   ],
   "source": [
    "range_df = df['Marks'].max() - df['Marks'].min()\n",
    "print(\"Range:\", range_df)\n",
    "\n",
    "iqr_df = df['Marks'].quantile(0.75) - df['Marks'].quantile(0.25)\n",
    "print(\"IQR:\", iqr_df)\n",
    "\n",
    "variance_df = df['Marks'].var()\n",
    "print(\"Variance:\\n\", variance_df)\n",
    "\n",
    "std_dev_df = df['Marks'].std()\n",
    "print(\"STD:\\n\", std_dev_df)\n",
    "\n",
    "cv_df = (std_dev_df / mean_df) * 100\n",
    "print(\"Co var:\\n\", cv_df)\n",
    "\n",
    "skew_df = df['Marks'].skew()\n",
    "print(\"Skew:\\n\", skew_df)\n",
    "\n",
    "kurt_df = df['Marks'].kurt()\n",
    "print(\"Kurt:\\n\", kurt_df)\n",
    "\n",
    "df['z_score'] = (df['Marks'] - df['Marks'].mean()) / df['Marks'].std()\n",
    "print(\"Z score:\\n\", df['z_score'])\n",
    "\n",
    "outliers_df = df[np.abs(df['z_score']) > 3]\n",
    "print('outliers:\\n',outliers_df)\n",
    "\n",
    "empirical_df = df[(df['Marks'] >= mean_df - 3 * std_dev_df ) & (df['Marks'] <= mean_df + 3 * std_dev_df)]\n",
    "print(\"EMpirical:\\n\", empirical_df)\n",
    "\n",
    "sns.boxplot(x = df[\"Marks\"])\n",
    "plt.title(\"Box plot dataframe\")\n",
    "plt.show()"
   ]
  },
  {
   "cell_type": "code",
   "execution_count": 15,
   "id": "c159a708-065b-471a-bdd9-7df1e06f2101",
   "metadata": {},
   "outputs": [
    {
     "data": {
      "text/plain": [
       "10"
      ]
     },
     "execution_count": 15,
     "metadata": {},
     "output_type": "execute_result"
    }
   ],
   "source": [
    "data = {\n",
    "    'Marks' : [78,85, 92,88,84,78,95,90,92,85],\n",
    "    'Hours_studied': [8,9,10,9,7,8,10,9,9,8]\n",
    "}\n",
    "\n",
    "df = pd.DataFrame(data)\n",
    "cov_df = df['Marks'].cov(df['Hours_studied'])\n",
    "\n",
    "corr_df = df['Marks'].corr(df['Hours_studied'])\n"
   ]
  },
  {
   "cell_type": "markdown",
   "id": "5e69ac86-b79d-4264-91aa-8555267c2a36",
   "metadata": {},
   "source": [
    "### using csv"
   ]
  },
  {
   "cell_type": "code",
   "execution_count": 16,
   "id": "766aef0d-9f61-42e0-9a03-3c31b0257ee0",
   "metadata": {},
   "outputs": [],
   "source": [
    "data = {\"Height\":[165, 170, 155, 172, 168, 175, 160, 180, 200],\"Weight\":[60, 72, 55, 68, 70, 75, 58, 82, 100]}\n",
    "df = pd.DataFrame(data)\n",
    "df.to_csv(\"height_width.csv\")"
   ]
  },
  {
   "cell_type": "code",
   "execution_count": 22,
   "id": "0378572c-042f-4d86-b8ed-269fffee46ea",
   "metadata": {},
   "outputs": [
    {
     "name": "stdout",
     "output_type": "stream",
     "text": [
      "Mean:\n",
      " Unnamed: 0      4.000000\n",
      "Height        171.666667\n",
      "Weight         71.111111\n",
      "dtype: float64\n",
      "Median :\n",
      " Unnamed: 0      4.0\n",
      "Height        170.0\n",
      "Weight         70.0\n",
      "dtype: float64\n",
      "\n",
      " Mode:\n",
      " Unnamed: 0      0\n",
      "Height        155\n",
      "Weight         55\n",
      "Name: 0, dtype: int64\n"
     ]
    }
   ],
   "source": [
    "df = pd.read_csv(\"height_width.csv\")\n",
    "\n",
    "mean_df = df.mean()\n",
    "print(\"Mean:\\n\", mean_df)\n",
    "\n",
    "#Median (for all numeric columns)\n",
    "median_df = df.median()\n",
    "print(\"Median :\\n\", median_df)\n",
    "\n",
    "mode_df = df.mode().iloc[0]\n",
    "print(\"\\n Mode:\\n\",mode_df)"
   ]
  },
  {
   "cell_type": "code",
   "execution_count": 23,
   "id": "7ef51dc4-513b-4179-a7be-c7883935d6d7",
   "metadata": {},
   "outputs": [
    {
     "name": "stdout",
     "output_type": "stream",
     "text": [
      "Co var matrix:\n",
      "             Unnamed: 0      Height      Weight\n",
      "Unnamed: 0       7.500   22.875000   25.375000\n",
      "Height          22.875  169.750000  177.416667\n",
      "Weight          25.375  177.416667  191.861111\n",
      "Co relation matrix:\n",
      "             Unnamed: 0    Height    Weight\n",
      "Unnamed: 0    1.000000  0.641100  0.668932\n",
      "Height        0.641100  1.000000  0.983096\n",
      "Weight        0.668932  0.983096  1.000000\n",
      "\n",
      "Cov (height vs weight)\n",
      " 177.41666666666666\n",
      "\n",
      "Corr (height vs weight)\n",
      " 0.9830962653860733\n"
     ]
    }
   ],
   "source": [
    "cov_matrix = df.cov()\n",
    "print(\"Co var matrix:\\n\", cov_matrix)\n",
    "\n",
    "corr_matrix = df.corr()\n",
    "print(\"Co relation matrix:\\n\", corr_matrix)\n",
    "\n",
    "cov = df[\"Height\"].cov(df[\"Weight\"])\n",
    "corr = df[\"Height\"].corr(df[\"Weight\"])\n",
    "print(\"\\nCov (height vs weight)\\n\", cov)\n",
    "print(\"\\nCorr (height vs weight)\\n\", corr)"
   ]
  },
  {
   "cell_type": "code",
   "execution_count": null,
   "id": "8a2016ee-32f1-4f82-86df-72cff541acf0",
   "metadata": {},
   "outputs": [],
   "source": []
  }
 ],
 "metadata": {
  "kernelspec": {
   "display_name": "Python 3 (ipykernel)",
   "language": "python",
   "name": "python3"
  },
  "language_info": {
   "codemirror_mode": {
    "name": "ipython",
    "version": 3
   },
   "file_extension": ".py",
   "mimetype": "text/x-python",
   "name": "python",
   "nbconvert_exporter": "python",
   "pygments_lexer": "ipython3",
   "version": "3.11.1"
  }
 },
 "nbformat": 4,
 "nbformat_minor": 5
}
